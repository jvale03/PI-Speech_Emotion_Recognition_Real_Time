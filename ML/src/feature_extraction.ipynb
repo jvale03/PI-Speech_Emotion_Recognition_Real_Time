{
 "cells": [
  {
   "cell_type": "code",
   "execution_count": 7,
   "id": "b6a72f20",
   "metadata": {},
   "outputs": [],
   "source": [
    "import librosa\n",
    "import numpy as np\n",
    "import parselmouth\n",
    "import pandas as pd\n",
    "import os"
   ]
  },
  {
   "cell_type": "code",
   "execution_count": null,
   "id": "0f16acef",
   "metadata": {},
   "outputs": [],
   "source": [
    "def extract_features(file_path, mood_label=None):\n",
    "    signal, sample_rate = librosa.load(file_path, sr=None)\n",
    "    snd = parselmouth.Sound(file_path)\n",
    "\n",
    "    # Pitch\n",
    "    pitches, magnitudes = librosa.piptrack(y=signal, sr=sample_rate)\n",
    "    pitch_values = pitches[magnitudes > np.median(magnitudes)]\n",
    "    pitch_mean = np.mean(pitch_values) if len(pitch_values) > 0 else 0\n",
    "    pitch_std = np.std(pitch_values) if len(pitch_values) > 0 else 0\n",
    "\n",
    "    # Jitter & Shimmer\n",
    "    point_process = parselmouth.praat.call(snd, \"To PointProcess (periodic, cc)\", 75, 500)\n",
    "    jitter_local = parselmouth.praat.call(point_process, \"Get jitter (local)\", 0, 0, 0.0001, 0.02, 1.3)\n",
    "    shimmer_local = parselmouth.praat.call([snd, point_process], \"Get shimmer (local)\", 0, 0, 0.0001, 0.02, 1.3, 1.6)\n",
    "\n",
    "    # HNR\n",
    "    hnr = parselmouth.praat.call(snd, \"To Harmonicity (cc)\", 0.01, 75, 0.1, 1.0)\n",
    "    hnr_value = parselmouth.praat.call(hnr, \"Get mean\", 0, 0)\n",
    "\n",
    "    # Energia\n",
    "    rms_energy = librosa.feature.rms(y=signal)[0]\n",
    "    energy_mean = np.mean(rms_energy)\n",
    "    energy_std = np.std(rms_energy)\n",
    "\n",
    "    # MFCCs\n",
    "    mfcc = librosa.feature.mfcc(y=signal, sr=sample_rate, n_mfcc=13)\n",
    "    mfcc_mean = np.mean(mfcc, axis=1)\n",
    "\n",
    "    # Speech rate\n",
    "    onset_env = librosa.onset.onset_strength(y=signal, sr=sample_rate)\n",
    "    _, beat_frames = librosa.beat.beat_track(onset_envelope=onset_env, sr=sample_rate)\n",
    "    syllable_count = len(beat_frames)\n",
    "    duration_sec = librosa.get_duration(y=signal, sr=sample_rate)\n",
    "    speech_rate = syllable_count / duration_sec if duration_sec > 0 else 0\n",
    "\n",
    "    # Zero-Crossing Rate\n",
    "    zcr = librosa.feature.zero_crossing_rate(y=signal)[0]\n",
    "    zcr_mean = np.mean(zcr)\n",
    "\n",
    "    # Spectral features\n",
    "    spectral_centroid = librosa.feature.spectral_centroid(y=signal, sr=sample_rate)[0]\n",
    "    spectral_flux = np.mean(np.diff(spectral_centroid))\n",
    "    spectral_rolloff = librosa.feature.spectral_rolloff(y=signal, sr=sample_rate)[0]\n",
    "    rolloff_mean = np.mean(spectral_rolloff)\n",
    "\n",
    "    feature_dict = {\n",
    "        'File': os.path.basename(file_path),\n",
    "        'Speech Duration': duration_sec,\n",
    "        'Pitch': pitch_mean,\n",
    "        'Pitch Std': pitch_std,\n",
    "        'Speech Rate': speech_rate,\n",
    "        'Jitter': jitter_local,\n",
    "        'Shimmer': shimmer_local,\n",
    "        'Energy Mean': energy_mean,\n",
    "        'Energy Std': energy_std,\n",
    "        'HNR': hnr_value,\n",
    "        'ZCR': zcr_mean,\n",
    "        'Spectral Flux': spectral_flux,\n",
    "        'Spectral Centroid Mean': np.mean(spectral_centroid),\n",
    "        'Spectral Rolloff Mean': rolloff_mean,\n",
    "        'Mood': mood_label if mood_label is not None else 'unknown'\n",
    "    }\n",
    "\n",
    "    for i in range(13):\n",
    "        feature_dict[f'mfcc_{i}'] = mfcc_mean[i]\n",
    "\n",
    "    return feature_dict\n",
    "\n",
    "def batch_extract_from_main_folder(main_folder, output_csv='features.csv'):\n",
    "    all_features = []\n",
    "\n",
    "\n",
    "    for mood_label in os.listdir(main_folder):\n",
    "        mood_path = os.path.join(main_folder, mood_label)\n",
    "        if not os.path.isdir(mood_path):\n",
    "            continue  \n",
    "\n",
    "\n",
    "        for filename in os.listdir(mood_path):\n",
    "            if not filename.lower().endswith(('.wav')):\n",
    "                continue\n",
    "\n",
    "            file_path = os.path.join(mood_path, filename)\n",
    "            try:\n",
    "                features = extract_features(file_path, mood_label=mood_label)\n",
    "                all_features.append(features)\n",
    "            except Exception as e:\n",
    "                print(f\"Erro ao processar {file_path}: {e}\")\n",
    "\n",
    "    # Salvar tudo num CSV\n",
    "    df = pd.DataFrame(all_features)\n",
    "    df.to_csv(output_csv, index=False)\n",
    "    print(f\"Todos os features foram salvos em: {output_csv}\")\n",
    "\n"
   ]
  },
  {
   "cell_type": "code",
   "execution_count": 9,
   "id": "23db03f2",
   "metadata": {},
   "outputs": [
    {
     "name": "stdout",
     "output_type": "stream",
     "text": [
      "Todos os features foram salvos em: features.csv\n"
     ]
    }
   ],
   "source": [
    "batch_extract_from_main_folder(\"../Emotions_Simple/\")"
   ]
  },
  {
   "cell_type": "code",
   "execution_count": null,
   "id": "38ee31a6",
   "metadata": {},
   "outputs": [],
   "source": []
  }
 ],
 "metadata": {
  "kernelspec": {
   "display_name": "PI",
   "language": "python",
   "name": "python3"
  },
  "language_info": {
   "codemirror_mode": {
    "name": "ipython",
    "version": 3
   },
   "file_extension": ".py",
   "mimetype": "text/x-python",
   "name": "python",
   "nbconvert_exporter": "python",
   "pygments_lexer": "ipython3",
   "version": "3.10.18"
  }
 },
 "nbformat": 4,
 "nbformat_minor": 5
}
