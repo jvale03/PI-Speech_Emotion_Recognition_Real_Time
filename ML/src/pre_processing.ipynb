{
 "cells": [
  {
   "cell_type": "code",
   "execution_count": 5,
   "id": "2d3ba27f",
   "metadata": {},
   "outputs": [],
   "source": [
    "import librosa\n",
    "import numpy as np\n",
    "import soundfile as sf"
   ]
  },
  {
   "cell_type": "markdown",
   "id": "283eb869",
   "metadata": {},
   "source": [
    "# Load File"
   ]
  },
  {
   "cell_type": "code",
   "execution_count": null,
   "id": "f27d5266",
   "metadata": {},
   "outputs": [],
   "source": [
    "audio_path = \"../Emotions_Simple/Positive/1001_IWL_HAP_XX.wav\"\n",
    "audio, sr = librosa.load(audio_path, sr=None, mono=True)"
   ]
  },
  {
   "cell_type": "markdown",
   "id": "2207af89",
   "metadata": {},
   "source": [
    "# Pre-Processing\n",
    "## Normalize Volume"
   ]
  },
  {
   "cell_type": "code",
   "execution_count": null,
   "id": "fee508f6",
   "metadata": {},
   "outputs": [],
   "source": [
    "def normalize(audio):\n",
    "    return audio / np.max(np.abs(audio))"
   ]
  },
  {
   "cell_type": "markdown",
   "id": "9324b127",
   "metadata": {},
   "source": [
    "## Segmentation"
   ]
  },
  {
   "cell_type": "code",
   "execution_count": null,
   "id": "2d422a38",
   "metadata": {},
   "outputs": [],
   "source": [
    "def segment_by_duration(audio, sr, segment_duration):\n",
    "    samples_per_segment = int(segment_duration * sr)\n",
    "    return [audio[i:i+samples_per_segment] for i in range(0, len(audio), samples_per_segment)]"
   ]
  },
  {
   "cell_type": "code",
   "execution_count": null,
   "id": "aa167095",
   "metadata": {},
   "outputs": [],
   "source": [
    "def pre_process(audio, sr, segment_duration=2.0):\n",
    "    audio_norm = normalize(audio)\n",
    "    segments = segment_by_duration(audio_norm, sr, segment_duration)\n",
    "    return segments, sr"
   ]
  },
  {
   "cell_type": "markdown",
   "id": "e9521b4a",
   "metadata": {},
   "source": [
    "# Save File"
   ]
  },
  {
   "cell_type": "code",
   "execution_count": null,
   "id": "1149b78b",
   "metadata": {},
   "outputs": [],
   "source": [
    "audio = pre_process(audio, sr, 2)\n",
    "sf.write(\"processado.wav\", audio, sr)"
   ]
  }
 ],
 "metadata": {
  "kernelspec": {
   "display_name": "PI",
   "language": "python",
   "name": "python3"
  },
  "language_info": {
   "codemirror_mode": {
    "name": "ipython",
    "version": 3
   },
   "file_extension": ".py",
   "mimetype": "text/x-python",
   "name": "python",
   "nbconvert_exporter": "python",
   "pygments_lexer": "ipython3",
   "version": "3.10.18"
  }
 },
 "nbformat": 4,
 "nbformat_minor": 5
}
