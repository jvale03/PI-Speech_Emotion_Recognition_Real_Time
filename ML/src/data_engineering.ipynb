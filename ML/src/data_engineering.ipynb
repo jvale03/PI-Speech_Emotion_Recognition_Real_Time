{
 "cells": [
  {
   "cell_type": "code",
   "execution_count": null,
   "id": "bb7444f6",
   "metadata": {},
   "outputs": [],
   "source": [
    "import modules\n",
    "import pandas as pd\n",
    "from sklearn.preprocessing import StandardScaler\n"
   ]
  },
  {
   "cell_type": "markdown",
   "id": "335a49d5",
   "metadata": {},
   "source": [
    "# Organize Audio Files by Emotion Folders"
   ]
  },
  {
   "cell_type": "code",
   "execution_count": null,
   "id": "29fa8375",
   "metadata": {},
   "outputs": [],
   "source": [
    "modules.audio_files_by_emotion()"
   ]
  },
  {
   "cell_type": "markdown",
   "id": "7df61aab",
   "metadata": {},
   "source": [
    "# Pre Processing Audios & Feature Extraction to .CSV"
   ]
  },
  {
   "cell_type": "code",
   "execution_count": null,
   "id": "445813e8",
   "metadata": {},
   "outputs": [
    {
     "name": "stdout",
     "output_type": "stream",
     "text": [
      "Processing Positive...\n",
      "Processing .DS_Store...\n",
      "Processing Negative...\n"
     ]
    },
    {
     "name": "stderr",
     "output_type": "stream",
     "text": [
      "/Users/jvale03/Documents/Universidade/5ºano/PI-Speech_Emotion_Recognition_Real_Time/ML/src/modules.py:12: RuntimeWarning: invalid value encountered in divide\n",
      "  return audio / np.max(np.abs(audio))\n"
     ]
    },
    {
     "name": "stdout",
     "output_type": "stream",
     "text": [
      "Processing Neutral...\n",
      "All features saved in: features.csv\n"
     ]
    }
   ],
   "source": [
    "modules.batch_extract_from_main_folder(\"../Emotions_Simple\", \"../Emotions_Simple/raw_features.csv\")"
   ]
  },
  {
   "cell_type": "markdown",
   "id": "d2a272bb",
   "metadata": {},
   "source": [
    "# Normalizing .CSV Features"
   ]
  },
  {
   "cell_type": "code",
   "execution_count": null,
   "id": "4c767e63",
   "metadata": {},
   "outputs": [],
   "source": [
    "df = pd.read_csv(\"../Emotions_Simple/raw_features.csv\")"
   ]
  },
  {
   "cell_type": "code",
   "execution_count": null,
   "id": "66960762",
   "metadata": {},
   "outputs": [],
   "source": [
    "df.columns"
   ]
  },
  {
   "cell_type": "code",
   "execution_count": null,
   "id": "39b74475",
   "metadata": {},
   "outputs": [],
   "source": [
    "# features to normalize\n",
    "features = ['Pitch', 'Pitch Std', 'Speech Rate',\n",
    "       'Jitter', 'Shimmer', 'Energy Mean', 'Energy Std', 'HNR', 'ZCR',\n",
    "       'Spectral Flux', 'Spectral Centroid Mean', 'Spectral Rolloff Mean',\n",
    "       'mfcc_0', 'mfcc_1', 'mfcc_2', 'mfcc_3', 'mfcc_4', 'mfcc_5',\n",
    "       'mfcc_6', 'mfcc_7', 'mfcc_8', 'mfcc_9', 'mfcc_10', 'mfcc_11', 'mfcc_12']\n",
    "\n",
    "selected_data = df[features]\n",
    "\n",
    "scaler = StandardScaler()\n",
    "normalized = scaler.fit_transform(selected_data)\n",
    "\n",
    "df_normalized = pd.DataFrame(normalized, columns=features)\n",
    "\n",
    "df_final = df.copy()\n",
    "df_final[features] = df_normalized\n"
   ]
  },
  {
   "cell_type": "code",
   "execution_count": null,
   "id": "912313df",
   "metadata": {},
   "outputs": [],
   "source": [
    "# saving dataframe\n",
    "\n",
    "df_final.to_csv(\"../Emotions_Simple/features_normalized.csv\",index=False)"
   ]
  }
 ],
 "metadata": {
  "kernelspec": {
   "display_name": "PI",
   "language": "python",
   "name": "python3"
  },
  "language_info": {
   "codemirror_mode": {
    "name": "ipython",
    "version": 3
   },
   "file_extension": ".py",
   "mimetype": "text/x-python",
   "name": "python",
   "nbconvert_exporter": "python",
   "pygments_lexer": "ipython3",
   "version": "3.10.18"
  }
 },
 "nbformat": 4,
 "nbformat_minor": 5
}
